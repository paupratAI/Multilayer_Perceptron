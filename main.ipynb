{
 "cells": [
  {
   "cell_type": "code",
   "execution_count": null,
   "metadata": {},
   "outputs": [],
   "source": [
    "'''\n",
    "%pip install --upgrade pip  --quiet\n",
    "%pip install pandas  --upgrade --quiet\n",
    "%pip install numpy  --upgrade --quiet\n",
    "%pip install scipy  --upgrade --quiet\n",
    "%pip install statsmodels  --upgrade --quiet\n",
    "%pip install seaborn  --upgrade --quiet\n",
    "%pip install scikit-learn==1.3.0\n",
    "%pip install tqdm ipykernel matplotlib ipywidgets --upgrade --quiet   \n",
    "%pip install plotly numpy==1.25 nbformat umap-learn\n",
    "%pip install ucimlrepo\n",
    "%pip install mlxtend\n",
    "%pip install pydotplus\n",
    "%pip install imbalanced-learn\n",
    "%pip install yellowbrick\n",
    "%pip install missingno\n",
    "%load_ext autoreload\n",
    "'''"
   ]
  },
  {
   "cell_type": "markdown",
   "metadata": {},
   "source": [
    "Basic imports"
   ]
  },
  {
   "cell_type": "code",
   "execution_count": null,
   "metadata": {},
   "outputs": [],
   "source": [
    "import pandas as pd\n",
    "import numpy as np\n",
    "import matplotlib.pyplot as plt\n",
    "import seaborn as sns"
   ]
  },
  {
   "cell_type": "code",
   "execution_count": null,
   "metadata": {},
   "outputs": [],
   "source": [
    "import matplotlib.pyplot as plt\n",
    "import seaborn as sns\n",
    "\n",
    "plt.rcParams['figure.figsize'] = [9, 6]  \n",
    "\n",
    "plt.rcParams['font.size'] = 14\n",
    "\n",
    "sns.set(font_scale=1)"
   ]
  },
  {
   "cell_type": "markdown",
   "metadata": {},
   "source": [
    "# 1. Anàlisi Exploratòria de Dades (EDA)"
   ]
  },
  {
   "cell_type": "markdown",
   "metadata": {},
   "source": [
    "#### <span style=\"color:lightgreen\"> Carreguem la base de dades</span>"
   ]
  },
  {
   "cell_type": "code",
   "execution_count": null,
   "metadata": {},
   "outputs": [],
   "source": [
    "df = pd.read_csv(\"smartphone_data.csv\")\n",
    "\n",
    "df.shape"
   ]
  },
  {
   "cell_type": "code",
   "execution_count": null,
   "metadata": {},
   "outputs": [],
   "source": [
    "df.head()"
   ]
  },
  {
   "cell_type": "code",
   "execution_count": null,
   "metadata": {},
   "outputs": [],
   "source": [
    "df.describe()"
   ]
  },
  {
   "cell_type": "code",
   "execution_count": null,
   "metadata": {},
   "outputs": [],
   "source": [
    "def classify_features(df, target): \n",
    "    initial_numerical_features = df.select_dtypes(include=['int64', 'float64']).columns.tolist()\n",
    "    initial_categorical_features = df.select_dtypes(include=['object', 'category']).columns.tolist()\n",
    "\n",
    "    numerical_features = []\n",
    "    categorical_features = initial_categorical_features  \n",
    "\n",
    "    for column in initial_numerical_features:\n",
    "        if column != target:\n",
    "            if df[column].nunique() < 10:\n",
    "                categorical_features.append(column) \n",
    "            else:\n",
    "                numerical_features.append(column)  \n",
    "\n",
    "    def feature_type(column):\n",
    "        if column in numerical_features:\n",
    "            return 'Numerical'\n",
    "        elif column in categorical_features:\n",
    "            return 'Categorical'\n",
    "        else:\n",
    "            return 'Boolean'\n",
    "\n",
    "    features = pd.DataFrame({\n",
    "        'Feature': [column for column in df.columns if column != 'price'],\n",
    "        'Type': [df[column].dtype for column in df.columns if column != 'price'],\n",
    "        'Unique values': [df[column].nunique() for column in df.columns if column != 'price'],\n",
    "        'Category': [feature_type(column) for column in df.columns if column != 'price']\n",
    "    })\n",
    "\n",
    "    features.sort_values(by='Unique values', ascending=True, inplace=True)\n",
    "    return numerical_features, categorical_features, features\n",
    "\n",
    "numerical_features, categorical_features, features = classify_features(df, 'price')\n",
    "\n",
    "features"
   ]
  },
  {
   "cell_type": "code",
   "execution_count": null,
   "metadata": {},
   "outputs": [],
   "source": [
    "for variable in ['has_5g', 'has_nfc', 'has_ir_blaster']:\n",
    "    df[variable] = df[variable].map({True: 1, False: 0})"
   ]
  },
  {
   "cell_type": "code",
   "execution_count": null,
   "metadata": {},
   "outputs": [],
   "source": [
    "numerical_features, categorical_features, features = classify_features(df, 'price')\n",
    "\n",
    "features"
   ]
  },
  {
   "cell_type": "code",
   "execution_count": null,
   "metadata": {},
   "outputs": [],
   "source": [
    "# Eliminar 'model' de la llista de variables categòriques i de 'df'\n",
    "categorical_features.remove('model')\n",
    "df.drop('model', axis=1, inplace=True)"
   ]
  },
  {
   "cell_type": "markdown",
   "metadata": {},
   "source": [
    "#### <span style=\"color:lightgreen\"> Visualitzem la distribució de cada variable numèrica</span>"
   ]
  },
  {
   "cell_type": "code",
   "execution_count": null,
   "metadata": {},
   "outputs": [],
   "source": [
    "'''for feature in numerical_features:\n",
    "    mean = df[feature].mean()\n",
    "    fig, ax = plt.subplots()\n",
    "    sns.histplot(df[feature], kde=False, ax=ax, edgecolor=\"black\")\n",
    "    ax.plot([mean], [-0.6], marker='^', markersize=9, color=\"red\")\n",
    "    ax.set_title(f'Distribució de {feature}')\n",
    "    ax.set_xlabel(feature, size=10)\n",
    "    ax.set_ylabel(\"Freqüència\", size=10)\n",
    "    plt.tight_layout()\n",
    "    #plt.savefig(f'./plots/distribution_num/{feature}_distribution.png')'''"
   ]
  },
  {
   "cell_type": "markdown",
   "metadata": {},
   "source": [
    "#### <span style=\"color:lightgreen\"> Histograma de la freqüència per classe de cada variable categòrica </span>"
   ]
  },
  {
   "cell_type": "code",
   "execution_count": null,
   "metadata": {},
   "outputs": [],
   "source": [
    "'''for feature in categorical_features:\n",
    "    plt.figure()\n",
    "    df[feature].value_counts().plot(kind='bar', color='green')\n",
    "    plt.title(f'Freqüència per classe del feature {feature}')\n",
    "    if feature == 'resolution':\n",
    "        plt.xticks(rotation=90, fontsize=8)  \n",
    "    else:\n",
    "        plt.xticks(rotation=70, fontsize=10)\n",
    "    plt.tight_layout()\n",
    "    #plt.savefig(f'./plots/frequency_cat/{feature}_frequency.png')'''"
   ]
  },
  {
   "cell_type": "markdown",
   "metadata": {},
   "source": [
    "#### <span style=\"color:lightgreen\"> Correlacions entre variables numèriques </span>"
   ]
  },
  {
   "cell_type": "code",
   "execution_count": null,
   "metadata": {},
   "outputs": [],
   "source": [
    "corr_matrix = df[numerical_features].corr()\n",
    "\n",
    "plt.figure(figsize=(10, 8))\n",
    "sns.heatmap(corr_matrix, annot=True, fmt=\".2f\", cmap='coolwarm', cbar=True)\n",
    "#plt.savefig('./plots/correlations_heatmap.png')\n",
    "plt.show()"
   ]
  },
  {
   "cell_type": "markdown",
   "metadata": {},
   "source": [
    "#### <span style=\"color:lightgreen\"> Correlació entre variables categòriques i variable objectiu </span>"
   ]
  },
  {
   "cell_type": "code",
   "execution_count": null,
   "metadata": {},
   "outputs": [],
   "source": [
    "for feature in categorical_features:\n",
    "    plt.figure(figsize=(10, 5))\n",
    "    sns.boxplot(x=feature, y='price', data=df)\n",
    "    plt.title(f'Distribución de price según {feature}')\n",
    "    plt.xticks(rotation=45)\n",
    "    plt.show()"
   ]
  },
  {
   "cell_type": "markdown",
   "metadata": {},
   "source": [
    "#### <span style=\"color:lightgreen\"> Correlació entre variables numèriques i variable objectiu </span>"
   ]
  },
  {
   "cell_type": "code",
   "execution_count": null,
   "metadata": {},
   "outputs": [],
   "source": [
    "sns.set(style=\"whitegrid\")\n",
    "\n",
    "for feature in numerical_features:\n",
    "    plt.figure(figsize=(8, 6))  # Ajusta el tamaño de la figura\n",
    "    sns.regplot(x=feature, y='price', data=df, scatter_kws={'alpha':0.5}, line_kws={\"color\": \"red\"})  # alpha para transparencia de puntos\n",
    "    plt.title(f'Relación entre Price y {feature} con línea de regresión')  # Título del gráfico\n",
    "    plt.xlabel(feature)  # Etiqueta del eje x\n",
    "    plt.ylabel('Price')  # Etiqueta del eje y\n",
    "    plt.show()"
   ]
  },
  {
   "cell_type": "markdown",
   "metadata": {},
   "source": [
    "# 2. Preprocessament"
   ]
  },
  {
   "cell_type": "markdown",
   "metadata": {},
   "source": [
    "#### <span style=\"color:lightgreen\"> Missings </span>"
   ]
  },
  {
   "cell_type": "code",
   "execution_count": null,
   "metadata": {},
   "outputs": [],
   "source": [
    "import missingno as msno\n",
    "\n",
    "msno.matrix(df)"
   ]
  },
  {
   "cell_type": "code",
   "execution_count": null,
   "metadata": {},
   "outputs": [],
   "source": [
    "def missing_data(data):\n",
    "    total_missing = data.isna().sum().sort_values(ascending=False)\n",
    "    percent_missing = round(100 * (data.isnull().sum() / len(data)), 2).sort_values(ascending=False)\n",
    "    missing_data = pd.DataFrame({'Total Missing': total_missing, 'Percent Missing (%)': percent_missing})\n",
    "    return missing_data\n",
    "missing_data(df)"
   ]
  },
  {
   "cell_type": "markdown",
   "metadata": {},
   "source": [
    "Eliminem 'extended_upto' ja que té gairebé un 50% de missings"
   ]
  },
  {
   "cell_type": "code",
   "execution_count": null,
   "metadata": {},
   "outputs": [],
   "source": [
    "categorical_features.remove('extended_upto')\n",
    "df = df.drop('extended_upto', axis=1)"
   ]
  },
  {
   "cell_type": "markdown",
   "metadata": {},
   "source": [
    "Els altres missings els imputarem un cop particionem el dataset en train i test"
   ]
  },
  {
   "cell_type": "markdown",
   "metadata": {},
   "source": [
    "#### <span style=\"color:lightgreen\"> Outliers </span>"
   ]
  },
  {
   "cell_type": "code",
   "execution_count": null,
   "metadata": {},
   "outputs": [],
   "source": [
    "for feature in numerical_features:\n",
    "    fig, axes = plt.subplots(1, 2, figsize=(12, 6))\n",
    "\n",
    "    # Plot boxplot\n",
    "    sns.boxplot(x=df[feature], ax=axes[0])\n",
    "    axes[0].set_title(f'{feature} with outliers')\n",
    "\n",
    "    # Plot distribution\n",
    "    sns.histplot(data=df, x=feature, kde=True, ax=axes[1])\n",
    "    axes[1].set_title(f'{feature} Distribution')\n",
    "\n",
    "    plt.tight_layout()\n",
    "    #fig.savefig(f'./plots/dist_with_outliers/{feature}_with_outliers.png')"
   ]
  },
  {
   "cell_type": "markdown",
   "metadata": {},
   "source": [
    "Eliminarem els outliers seguint el criteri del Rang Interquartil, excepte la variable objectiu 'price'"
   ]
  },
  {
   "cell_type": "markdown",
   "metadata": {},
   "source": [
    "Per tant, considerarem outliers:\n",
    "* Els valors més grans que Q1 - 1.5*IQR\n",
    "* Els valors més petits que Q3 + 1.5*IQR\n"
   ]
  },
  {
   "cell_type": "code",
   "execution_count": null,
   "metadata": {},
   "outputs": [],
   "source": [
    "for feature in numerical_features:\n",
    "    # Calcular IQR\n",
    "    Q1 = df[feature].quantile(0.25)\n",
    "    Q3 = df[feature].quantile(0.75)\n",
    "    IQR = Q3 - Q1\n",
    "\n",
    "    # Definir el límit inferior i superior\n",
    "    lower_bound = Q1 - 1.5 * IQR\n",
    "    upper_bound = Q3 + 1.5 * IQR\n",
    "\n",
    "    # Replace outliers with NaN\n",
    "    df.loc[(df[feature] < lower_bound) | (df[feature] > upper_bound), feature] = np.nan\n",
    "\n",
    "    fig, axes = plt.subplots(1, 2, figsize=(12, 6))\n",
    "\n",
    "    # Plot boxplot\n",
    "    sns.boxplot(x=df[feature], ax=axes[0])\n",
    "    axes[0].set_title(f'{feature} Boxplot')\n",
    "\n",
    "    # Plot distribution\n",
    "    sns.histplot(data=df, x=feature, kde=True, ax=axes[1])\n",
    "    axes[1].set_title(f'{feature} Distribution')\n",
    "\n",
    "    plt.tight_layout()\n",
    "    #fig.savefig(f'./plots/dist_without_outliers/{feature}_without_outliers.png')"
   ]
  },
  {
   "cell_type": "markdown",
   "metadata": {},
   "source": [
    "#### <span style=\"color:lightgreen\"> Recodificació de variables categòriques </span>"
   ]
  },
  {
   "cell_type": "code",
   "execution_count": null,
   "metadata": {},
   "outputs": [],
   "source": [
    "from sklearn.preprocessing import LabelEncoder\n",
    "\n",
    "def label_encode(df, categorical_columns):\n",
    "    encoded_df = df.copy()\n",
    "\n",
    "    for col in categorical_columns:\n",
    "        le = LabelEncoder()\n",
    "        encoded_df[col] = le.fit_transform(encoded_df[col].astype(str))\n",
    "\n",
    "    return encoded_df"
   ]
  },
  {
   "cell_type": "code",
   "execution_count": null,
   "metadata": {},
   "outputs": [],
   "source": [
    "df_encoded = label_encode(df, categorical_features)\n",
    "\n",
    "df_encoded[categorical_features].describe()"
   ]
  },
  {
   "cell_type": "markdown",
   "metadata": {},
   "source": [
    "#### <span style=\"color:lightgreen\"> Normalització de variables numèriques </span>"
   ]
  },
  {
   "cell_type": "code",
   "execution_count": null,
   "metadata": {},
   "outputs": [],
   "source": [
    "from sklearn.preprocessing import MinMaxScaler\n",
    "\n",
    "scaler = MinMaxScaler()\n",
    "df_normalized = pd.DataFrame(scaler.fit_transform(df[numerical_features]), columns=numerical_features)\n",
    "\n",
    "for feature in numerical_features:\n",
    "    plt.figure(figsize=(10, 4))\n",
    "    df_normalized[feature].plot.hist()\n",
    "    plt.title(f'Distribució Normalitzada - {feature}')\n",
    "    #plt.savefig(f'./plots/normalized/{feature}_normalized.png')"
   ]
  },
  {
   "cell_type": "code",
   "execution_count": null,
   "metadata": {},
   "outputs": [],
   "source": [
    "df_normalized[numerical_features].sample(10, random_state=25) "
   ]
  },
  {
   "cell_type": "markdown",
   "metadata": {},
   "source": [
    "# 3. Remostreig"
   ]
  },
  {
   "cell_type": "markdown",
   "metadata": {},
   "source": [
    "#### <span style=\"color:lightgreen\"> Partició del dataset en Train i Test </span>"
   ]
  },
  {
   "cell_type": "code",
   "execution_count": null,
   "metadata": {},
   "outputs": [],
   "source": [
    "from sklearn.model_selection import train_test_split\n",
    "\n",
    "X = df.drop('price', axis=1) \n",
    "y = df['price']\n",
    "\n",
    "# Split the data into training and test sets\n",
    "X_train, X_test, y_train, y_test = train_test_split(X, y, test_size=0.2, random_state=33)"
   ]
  },
  {
   "cell_type": "code",
   "execution_count": null,
   "metadata": {},
   "outputs": [],
   "source": [
    "# Create a table with the shape of the train and test sets\n",
    "sets_df = pd.DataFrame(columns=['Set', 'Number of Observations', 'Number of Features'])\n",
    "sets_df.loc[len(sets_df)] = ['Train', X_train.shape[0], X_train.shape[1]]\n",
    "sets_df.loc[len(sets_df)] = ['Test', X_test.shape[0], X_test.shape[1]]\n",
    "\n",
    "sets_df"
   ]
  },
  {
   "cell_type": "markdown",
   "metadata": {},
   "source": [
    "#### <span style=\"color:lightgreen\"> Imputació de Missings</span>"
   ]
  },
  {
   "cell_type": "markdown",
   "metadata": {},
   "source": [
    "##### Variables numèriques"
   ]
  },
  {
   "cell_type": "code",
   "execution_count": null,
   "metadata": {},
   "outputs": [],
   "source": [
    "missing_before_num = X_train[numerical_features].isnull().sum()\n",
    "mean_before = X_train[numerical_features].mean()\n",
    "stderr_before = X_train[numerical_features].sem()\n",
    "median_before = X_train[numerical_features].median()"
   ]
  },
  {
   "cell_type": "code",
   "execution_count": null,
   "metadata": {},
   "outputs": [],
   "source": [
    "from sklearn.impute import KNNImputer\n",
    "\n",
    "# Crear l'imputador KNN\n",
    "imputer = KNNImputer(n_neighbors=5)\n",
    "\n",
    "# Ajustar l'imputador a les característiques numèriques de les dades d'entrenament i transformar-les\n",
    "X_train[numerical_features] = imputer.fit_transform(X_train[numerical_features])\n",
    "\n",
    "# Transformar les característiques numèriques de les dades de prova utilitzant l'imputador ajustat\n",
    "X_test[numerical_features] = imputer.transform(X_test[numerical_features])"
   ]
  },
  {
   "cell_type": "code",
   "execution_count": null,
   "metadata": {},
   "outputs": [],
   "source": [
    "missing_after_num = X_train[numerical_features].isnull().sum()\n",
    "mean_after = X_train[numerical_features].mean()\n",
    "stderr_after = X_train[numerical_features].sem()\n",
    "median_after = X_train[numerical_features].median()"
   ]
  },
  {
   "cell_type": "code",
   "execution_count": null,
   "metadata": {},
   "outputs": [],
   "source": [
    "stats_comparison_num = pd.DataFrame({\n",
    "    'Feature': missing_before_num.index, \n",
    "    'Mean (old)': mean_before.values,\n",
    "    'Mean': mean_after.values,\n",
    "    'Std_Error (old)': stderr_before.values,\n",
    "    'Std_Error': stderr_after.values,\n",
    "    'Median (old)': median_before.values,\n",
    "    'Median': median_after.values\n",
    "})\n",
    "stats_comparison_num"
   ]
  },
  {
   "cell_type": "markdown",
   "metadata": {},
   "source": [
    "##### Variables categòriques"
   ]
  },
  {
   "cell_type": "code",
   "execution_count": null,
   "metadata": {},
   "outputs": [],
   "source": [
    "# Save the original data\n",
    "original_data = X_train.copy()"
   ]
  },
  {
   "cell_type": "code",
   "execution_count": null,
   "metadata": {},
   "outputs": [],
   "source": [
    "# List containing the names of categorical features that have at least one missing value\n",
    "cat_features_missings = [feature for feature in categorical_features if X_train[feature].isnull().any()]\n",
    "print(cat_features_missings)"
   ]
  },
  {
   "cell_type": "code",
   "execution_count": null,
   "metadata": {},
   "outputs": [],
   "source": [
    "from sklearn.impute import SimpleImputer\n",
    "\n",
    "imputer = SimpleImputer(strategy='most_frequent')\n",
    "\n",
    "X_train[categorical_features] = imputer.fit_transform(X_train[categorical_features])\n",
    "X_test[categorical_features] = imputer.transform(X_test[categorical_features])"
   ]
  },
  {
   "cell_type": "code",
   "execution_count": null,
   "metadata": {},
   "outputs": [],
   "source": [
    "for feature in cat_features_missings:\n",
    "    plt.figure(figsize=(10, 4))\n",
    "\n",
    "    # Before imputation plot (excluding 'NaN' values)\n",
    "    plt.subplot(1, 2, 1)\n",
    "    # Filter out the NaN values\n",
    "    filtered_data = original_data[original_data[feature].notna()]\n",
    "    sns.countplot(data=filtered_data, x=feature, color='green')\n",
    "    plt.title(f'{feature} - Original')\n",
    "    plt.xticks(rotation=60)  \n",
    "\n",
    "    # After imputation plot\n",
    "    plt.subplot(1, 2, 2)\n",
    "    sns.countplot(data=X_train, x=feature, color='green')\n",
    "    plt.title(f'{feature} - Després de la Imputació')\n",
    "    plt.xticks(rotation=60)  \n",
    "\n",
    "    #plt.savefig(f'./plots/dist_moda/{feature}_moda.png')"
   ]
  },
  {
   "cell_type": "markdown",
   "metadata": {},
   "source": [
    "#### <span style=\"color:lightgreen\"> CV per avaluar el model </span>"
   ]
  },
  {
   "cell_type": "code",
   "execution_count": null,
   "metadata": {},
   "outputs": [],
   "source": [
    "# No entenc molt bé que hem de fer aquí"
   ]
  },
  {
   "cell_type": "markdown",
   "metadata": {},
   "source": [
    "# 4. Model Lineal Base"
   ]
  },
  {
   "cell_type": "markdown",
   "metadata": {},
   "source": [
    "#### <span style=\"color:lightgreen\"> Entrenament i avaluació d'un model de regressió lineal </span>"
   ]
  },
  {
   "cell_type": "markdown",
   "metadata": {},
   "source": [
    "#### <span style=\"color:lightgreen\"> Interpretació dels resultats obtinguts (mètriques de classificació, coeficients, etc.) </span>"
   ]
  }
 ],
 "metadata": {
  "kernelspec": {
   "display_name": "Python 3",
   "language": "python",
   "name": "python3"
  },
  "language_info": {
   "codemirror_mode": {
    "name": "ipython",
    "version": 3
   },
   "file_extension": ".py",
   "mimetype": "text/x-python",
   "name": "python",
   "nbconvert_exporter": "python",
   "pygments_lexer": "ipython3",
   "version": "3.11.4"
  }
 },
 "nbformat": 4,
 "nbformat_minor": 2
}
